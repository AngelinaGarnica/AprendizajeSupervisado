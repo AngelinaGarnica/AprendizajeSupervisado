{
 "cells": [
  {
   "cell_type": "markdown",
   "metadata": {},
   "source": [
    "# Unidad 4 - Aprendizaje Supervisado: Competencia Kaggle\n",
    "\n",
    "Costamagna Marcelo \n",
    "\n",
    "Angelina"
   ]
  },
  {
   "cell_type": "code",
   "execution_count": 2,
   "metadata": {},
   "outputs": [],
   "source": [
    "import pandas as pd\n",
    "import numpy as np\n",
    "import matplotlib.pyplot as plt\n",
    "import random\n",
    "\n",
    "from ml.visualization import plot_confusion_matrix, plot_learning_curve\n",
    "from sklearn.linear_model import SGDClassifier\n",
    "from sklearn.metrics import accuracy_score, classification_report, confusion_matrix\n",
    "from sklearn.model_selection import GridSearchCV, train_test_split\n",
    "from sklearn import tree\n",
    "\n",
    "from sklearn import preprocessing\n",
    "from sklearn.preprocessing import MinMaxScaler\n",
    "\n",
    "from sklearn.linear_model import LinearRegression\n",
    "from sklearn.linear_model import LogisticRegression\n",
    "from sklearn.linear_model import Lasso\n",
    "from sklearn.linear_model import Ridge\n",
    "\n",
    "from sklearn.svm import SVC\n",
    "\n",
    "from sklearn import metrics\n",
    "\n",
    "import lightgbm as lgm\n",
    "\n",
    "np.random.seed(1234)  # Para mayor determinismo\n",
    "\n",
    "%matplotlib inline"
   ]
  },
  {
   "cell_type": "markdown",
   "metadata": {},
   "source": [
    "Data Fields\n",
    "\n",
    "    PetID - Unique hash ID of pet profile\n",
    "    AdoptionSpeed - Categorical speed of adoption. Lower is faster. This is the value to predict. See below section for more info.\n",
    "    Type - Type of animal (1 = Dog, 2 = Cat)\n",
    "    Name - Name of pet (Empty if not named)\n",
    "    Age - Age of pet when listed, in months\n",
    "    Breed1 - Primary breed of pet (Refer to BreedLabels dictionary)\n",
    "    Breed2 - Secondary breed of pet, if pet is of mixed breed (Refer to BreedLabels dictionary)\n",
    "    Gender - Gender of pet (1 = Male, 2 = Female, 3 = Mixed, if profile represents group of pets)\n",
    "    Color1 - Color 1 of pet (Refer to ColorLabels dictionary)\n",
    "    Color2 - Color 2 of pet (Refer to ColorLabels dictionary)\n",
    "    Color3 - Color 3 of pet (Refer to ColorLabels dictionary)\n",
    "    MaturitySize - Size at maturity (1 = Small, 2 = Medium, 3 = Large, 4 = Extra Large, 0 = Not Specified)\n",
    "    FurLength - Fur length (1 = Short, 2 = Medium, 3 = Long, 0 = Not Specified)\n",
    "    Vaccinated - Pet has been vaccinated (1 = Yes, 2 = No, 3 = Not Sure)\n",
    "    Dewormed - Pet has been dewormed (1 = Yes, 2 = No, 3 = Not Sure)\n",
    "    Sterilized - Pet has been spayed / neutered (1 = Yes, 2 = No, 3 = Not Sure)\n",
    "    Health - Health Condition (1 = Healthy, 2 = Minor Injury, 3 = Serious Injury, 0 = Not Specified)\n",
    "    Quantity - Number of pets represented in profile\n",
    "    Fee - Adoption fee (0 = Free)\n",
    "    State - State location in Malaysia (Refer to StateLabels dictionary)\n",
    "    RescuerID - Unique hash ID of rescuer\n",
    "    VideoAmt - Total uploaded videos for this pet\n",
    "    PhotoAmt - Total uploaded photos for this pet\n",
    "    Description - Profile write-up for this pet. The primary language used is English, with some in Malay or Chinese.\n",
    "\n"
   ]
  },
  {
   "cell_type": "markdown",
   "metadata": {},
   "source": [
    "Cargamos los datasets:"
   ]
  },
  {
   "cell_type": "code",
   "execution_count": 41,
   "metadata": {},
   "outputs": [],
   "source": [
    "data_train = pd.read_csv(\"./Data/train_git.csv\")\n",
    "data_test = pd.read_csv(\"./Data/test_git.csv\")\n",
    "data_sample_submission  = pd.read_csv(\"./Data/submission_git.csv\")\n"
   ]
  },
  {
   "cell_type": "markdown",
   "metadata": {},
   "source": [
    "# Modelo por defecto sin cambiar hiperparámetros, escalar variables o utilizar one hot encoding."
   ]
  },
  {
   "cell_type": "markdown",
   "metadata": {},
   "source": [
    "Seleccionamos las columnas de interés del set de etrenamiento:"
   ]
  },
  {
   "cell_type": "code",
   "execution_count": 4,
   "metadata": {},
   "outputs": [],
   "source": [
    "df_train = pd.concat( [data_train[['Type',\n",
    "                    'Age',\n",
    "                    'Breed1',\n",
    "                    'Breed2',\n",
    "                    'Gender',\n",
    "                    'Color1',\n",
    "                    'Color2',\n",
    "                    'Color3',\n",
    "                    'MaturitySize',\n",
    "                   'FurLength',\n",
    "                    'Vaccinated',\n",
    "                   'Dewormed',\n",
    "                   'Sterilized',\n",
    "                   'Health',\n",
    "                   'Quantity',\n",
    "                   'Fee',\n",
    "                   'State']],\n",
    "                   data_train[['AdoptionSpeed']] ] , axis=1 )\n",
    "\n"
   ]
  },
  {
   "cell_type": "code",
   "execution_count": 5,
   "metadata": {},
   "outputs": [
    {
     "data": {
      "text/plain": [
       "Type             int64\n",
       "Age              int64\n",
       "Breed1           int64\n",
       "Breed2           int64\n",
       "Gender           int64\n",
       "Color1           int64\n",
       "Color2           int64\n",
       "Color3           int64\n",
       "MaturitySize     int64\n",
       "FurLength        int64\n",
       "Vaccinated       int64\n",
       "Dewormed         int64\n",
       "Sterilized       int64\n",
       "Health           int64\n",
       "Quantity         int64\n",
       "Fee              int64\n",
       "State            int64\n",
       "AdoptionSpeed    int64\n",
       "dtype: object"
      ]
     },
     "execution_count": 5,
     "metadata": {},
     "output_type": "execute_result"
    }
   ],
   "source": [
    "df_train.dtypes"
   ]
  },
  {
   "cell_type": "markdown",
   "metadata": {},
   "source": [
    "Cambiamos el tipo de dato a categórico para las variables que corresponda:"
   ]
  },
  {
   "cell_type": "code",
   "execution_count": 6,
   "metadata": {},
   "outputs": [],
   "source": [
    "df_train['Type'] = pd.Categorical(df_train['Type'])\n",
    "df_train['Breed1'] = pd.Categorical(df_train['Breed1'])\n",
    "df_train['Breed2'] = pd.Categorical(df_train['Breed2'])\n",
    "df_train['Gender'] = pd.Categorical(df_train['Gender'])\n",
    "df_train['Color1'] = pd.Categorical(df_train['Color1'])\n",
    "df_train['Color2'] = pd.Categorical(df_train['Color2'])\n",
    "df_train['Color3'] = pd.Categorical(df_train['Color3'])\n",
    "df_train['MaturitySize'] = pd.Categorical(df_train['MaturitySize'])\n",
    "df_train['FurLength'] = pd.Categorical(df_train['FurLength'])\n",
    "df_train['Vaccinated'] = pd.Categorical(df_train['Vaccinated'])\n",
    "df_train['Dewormed'] = pd.Categorical(df_train['Dewormed'])\n",
    "df_train['Sterilized'] = pd.Categorical(df_train['Sterilized'])\n",
    "df_train['Health'] = pd.Categorical(df_train['Health'])\n",
    "df_train['State'] = pd.Categorical(df_train['State'])\n",
    "#df_train['colores'] = pd.Categorical(df_train['colores'])\n",
    "#df_train['edad'] = pd.Categorical(df_train['edad'])\n",
    "df_train['AdoptionSpeed'] = pd.Categorical(df_train['AdoptionSpeed'])"
   ]
  },
  {
   "cell_type": "markdown",
   "metadata": {},
   "source": [
    "Separamos el dataset en train y test:"
   ]
  },
  {
   "cell_type": "code",
   "execution_count": 270,
   "metadata": {},
   "outputs": [],
   "source": [
    "#random.seed(1234)\n",
    "\n",
    "# División entre instancias y etiquetas\n",
    "X, y = df_train.iloc[:, :17], df_train.AdoptionSpeed\n",
    "X_train, X_test, y_train, y_test = train_test_split(X, y, test_size=0.3)    "
   ]
  },
  {
   "cell_type": "code",
   "execution_count": 12,
   "metadata": {},
   "outputs": [
    {
     "data": {
      "text/plain": [
       "Index(['Type', 'Age', 'Breed1', 'Breed2', 'Gender', 'Color1', 'Color2',\n",
       "       'Color3', 'MaturitySize', 'FurLength', 'Vaccinated', 'Dewormed',\n",
       "       'Sterilized', 'Health', 'Quantity', 'Fee', 'State'],\n",
       "      dtype='object')"
      ]
     },
     "execution_count": 12,
     "metadata": {},
     "output_type": "execute_result"
    }
   ],
   "source": [
    "X.columns"
   ]
  },
  {
   "cell_type": "markdown",
   "metadata": {},
   "source": [
    "Probamos con un modelo de regresión lineal:"
   ]
  },
  {
   "cell_type": "code",
   "execution_count": 13,
   "metadata": {},
   "outputs": [
    {
     "data": {
      "text/plain": [
       "SVC(C=1.0, cache_size=200, class_weight=None, coef0=0.0,\n",
       "    decision_function_shape='ovr', degree=3, gamma='auto', kernel='rbf',\n",
       "    max_iter=-1, probability=False, random_state=None, shrinking=True,\n",
       "    tol=0.001, verbose=False)"
      ]
     },
     "execution_count": 13,
     "metadata": {},
     "output_type": "execute_result"
    }
   ],
   "source": [
    "modelo_svm = SVC(gamma='auto')\n",
    "modelo_svm.fit(X_train, y_train) "
   ]
  },
  {
   "cell_type": "code",
   "execution_count": 36,
   "metadata": {},
   "outputs": [
    {
     "name": "stdout",
     "output_type": "stream",
     "text": [
      "              precision    recall  f1-score   support\n",
      "\n",
      "           0       0.25      0.02      0.03        55\n",
      "           1       0.34      0.23      0.27       426\n",
      "           2       0.34      0.34      0.34       572\n",
      "           3       0.27      0.13      0.17       462\n",
      "           4       0.39      0.66      0.49       602\n",
      "\n",
      "    accuracy                           0.35      2117\n",
      "   macro avg       0.32      0.28      0.26      2117\n",
      "weighted avg       0.33      0.35      0.32      2117\n",
      "\n"
     ]
    }
   ],
   "source": [
    "y_true, y_pred = y_test, modelo_svm.predict(X_test)\n",
    "print(classification_report(y_true, y_pred))\n"
   ]
  },
  {
   "cell_type": "code",
   "execution_count": 466,
   "metadata": {},
   "outputs": [
    {
     "data": {
      "image/png": "[encoded data removed]",
      "text/plain": [
       "<Figure size 432x288 with 2 Axes>"
      ]
     },
     "metadata": {
      "needs_background": "light"
     },
     "output_type": "display_data"
    }
   ],
   "source": [
    "plot_confusion_matrix(confusion_matrix(y_true, y_pred),\n",
    "                          classes=['0', '1','2','3', '4'], title=\"Matriz de confusión \" )"
   ]
  },
  {
   "cell_type": "code",
   "execution_count": 37,
   "metadata": {},
   "outputs": [
    {
     "name": "stdout",
     "output_type": "stream",
     "text": [
      "The rmse of prediction is: 1.5004329401976721\n"
     ]
    }
   ],
   "source": [
    "print('The rmse of prediction is:', metrics.mean_squared_error(y_true, y_pred) ** 0.5)"
   ]
  },
  {
   "cell_type": "markdown",
   "metadata": {},
   "source": [
    "Utilizando un modelo de SVM básico obtuvimos un **Accuracy** de 0.35 sobre test de validación ahora corramos el modelo sobre test:"
   ]
  },
  {
   "cell_type": "markdown",
   "metadata": {},
   "source": [
    "Preparamos los datos con los mismos tipos que train:"
   ]
  },
  {
   "cell_type": "code",
   "execution_count": 9,
   "metadata": {},
   "outputs": [],
   "source": [
    "df_test = data_test[['Type',\n",
    "                    'Age',\n",
    "                    'Breed1',\n",
    "                    'Breed2',\n",
    "                    'Gender',\n",
    "                    'Color1',\n",
    "                    'Color2',\n",
    "                    'Color3',\n",
    "                    'MaturitySize',\n",
    "                   'FurLength',\n",
    "                    'Vaccinated',\n",
    "                   'Dewormed',\n",
    "                   'Sterilized',\n",
    "                   'Health',\n",
    "                   'Quantity',\n",
    "                   'Fee',\n",
    "                   'State']]"
   ]
  },
  {
   "cell_type": "code",
   "execution_count": 10,
   "metadata": {
    "collapsed": true
   },
   "outputs": [
    {
     "name": "stderr",
     "output_type": "stream",
     "text": [
      "C:\\Users\\marceluss\\Anaconda3\\lib\\site-packages\\ipykernel_launcher.py:1: SettingWithCopyWarning: \n",
      "A value is trying to be set on a copy of a slice from a DataFrame.\n",
      "Try using .loc[row_indexer,col_indexer] = value instead\n",
      "\n",
      "See the caveats in the documentation: http://pandas.pydata.org/pandas-docs/stable/indexing.html#indexing-view-versus-copy\n",
      "  \"\"\"Entry point for launching an IPython kernel.\n",
      "C:\\Users\\marceluss\\Anaconda3\\lib\\site-packages\\ipykernel_launcher.py:2: SettingWithCopyWarning: \n",
      "A value is trying to be set on a copy of a slice from a DataFrame.\n",
      "Try using .loc[row_indexer,col_indexer] = value instead\n",
      "\n",
      "See the caveats in the documentation: http://pandas.pydata.org/pandas-docs/stable/indexing.html#indexing-view-versus-copy\n",
      "  \n",
      "C:\\Users\\marceluss\\Anaconda3\\lib\\site-packages\\ipykernel_launcher.py:3: SettingWithCopyWarning: \n",
      "A value is trying to be set on a copy of a slice from a DataFrame.\n",
      "Try using .loc[row_indexer,col_indexer] = value instead\n",
      "\n",
      "See the caveats in the documentation: http://pandas.pydata.org/pandas-docs/stable/indexing.html#indexing-view-versus-copy\n",
      "  This is separate from the ipykernel package so we can avoid doing imports until\n",
      "C:\\Users\\marceluss\\Anaconda3\\lib\\site-packages\\ipykernel_launcher.py:4: SettingWithCopyWarning: \n",
      "A value is trying to be set on a copy of a slice from a DataFrame.\n",
      "Try using .loc[row_indexer,col_indexer] = value instead\n",
      "\n",
      "See the caveats in the documentation: http://pandas.pydata.org/pandas-docs/stable/indexing.html#indexing-view-versus-copy\n",
      "  after removing the cwd from sys.path.\n",
      "C:\\Users\\marceluss\\Anaconda3\\lib\\site-packages\\ipykernel_launcher.py:5: SettingWithCopyWarning: \n",
      "A value is trying to be set on a copy of a slice from a DataFrame.\n",
      "Try using .loc[row_indexer,col_indexer] = value instead\n",
      "\n",
      "See the caveats in the documentation: http://pandas.pydata.org/pandas-docs/stable/indexing.html#indexing-view-versus-copy\n",
      "  \"\"\"\n",
      "C:\\Users\\marceluss\\Anaconda3\\lib\\site-packages\\ipykernel_launcher.py:6: SettingWithCopyWarning: \n",
      "A value is trying to be set on a copy of a slice from a DataFrame.\n",
      "Try using .loc[row_indexer,col_indexer] = value instead\n",
      "\n",
      "See the caveats in the documentation: http://pandas.pydata.org/pandas-docs/stable/indexing.html#indexing-view-versus-copy\n",
      "  \n",
      "C:\\Users\\marceluss\\Anaconda3\\lib\\site-packages\\ipykernel_launcher.py:7: SettingWithCopyWarning: \n",
      "A value is trying to be set on a copy of a slice from a DataFrame.\n",
      "Try using .loc[row_indexer,col_indexer] = value instead\n",
      "\n",
      "See the caveats in the documentation: http://pandas.pydata.org/pandas-docs/stable/indexing.html#indexing-view-versus-copy\n",
      "  import sys\n",
      "C:\\Users\\marceluss\\Anaconda3\\lib\\site-packages\\ipykernel_launcher.py:8: SettingWithCopyWarning: \n",
      "A value is trying to be set on a copy of a slice from a DataFrame.\n",
      "Try using .loc[row_indexer,col_indexer] = value instead\n",
      "\n",
      "See the caveats in the documentation: http://pandas.pydata.org/pandas-docs/stable/indexing.html#indexing-view-versus-copy\n",
      "  \n",
      "C:\\Users\\marceluss\\Anaconda3\\lib\\site-packages\\ipykernel_launcher.py:9: SettingWithCopyWarning: \n",
      "A value is trying to be set on a copy of a slice from a DataFrame.\n",
      "Try using .loc[row_indexer,col_indexer] = value instead\n",
      "\n",
      "See the caveats in the documentation: http://pandas.pydata.org/pandas-docs/stable/indexing.html#indexing-view-versus-copy\n",
      "  if __name__ == '__main__':\n",
      "C:\\Users\\marceluss\\Anaconda3\\lib\\site-packages\\ipykernel_launcher.py:10: SettingWithCopyWarning: \n",
      "A value is trying to be set on a copy of a slice from a DataFrame.\n",
      "Try using .loc[row_indexer,col_indexer] = value instead\n",
      "\n",
      "See the caveats in the documentation: http://pandas.pydata.org/pandas-docs/stable/indexing.html#indexing-view-versus-copy\n",
      "  # Remove the CWD from sys.path while we load stuff.\n",
      "C:\\Users\\marceluss\\Anaconda3\\lib\\site-packages\\ipykernel_launcher.py:11: SettingWithCopyWarning: \n",
      "A value is trying to be set on a copy of a slice from a DataFrame.\n",
      "Try using .loc[row_indexer,col_indexer] = value instead\n",
      "\n",
      "See the caveats in the documentation: http://pandas.pydata.org/pandas-docs/stable/indexing.html#indexing-view-versus-copy\n",
      "  # This is added back by InteractiveShellApp.init_path()\n",
      "C:\\Users\\marceluss\\Anaconda3\\lib\\site-packages\\ipykernel_launcher.py:12: SettingWithCopyWarning: \n",
      "A value is trying to be set on a copy of a slice from a DataFrame.\n",
      "Try using .loc[row_indexer,col_indexer] = value instead\n",
      "\n",
      "See the caveats in the documentation: http://pandas.pydata.org/pandas-docs/stable/indexing.html#indexing-view-versus-copy\n",
      "  if sys.path[0] == '':\n",
      "C:\\Users\\marceluss\\Anaconda3\\lib\\site-packages\\ipykernel_launcher.py:13: SettingWithCopyWarning: \n",
      "A value is trying to be set on a copy of a slice from a DataFrame.\n",
      "Try using .loc[row_indexer,col_indexer] = value instead\n",
      "\n",
      "See the caveats in the documentation: http://pandas.pydata.org/pandas-docs/stable/indexing.html#indexing-view-versus-copy\n",
      "  del sys.path[0]\n",
      "C:\\Users\\marceluss\\Anaconda3\\lib\\site-packages\\ipykernel_launcher.py:14: SettingWithCopyWarning: \n",
      "A value is trying to be set on a copy of a slice from a DataFrame.\n",
      "Try using .loc[row_indexer,col_indexer] = value instead\n",
      "\n",
      "See the caveats in the documentation: http://pandas.pydata.org/pandas-docs/stable/indexing.html#indexing-view-versus-copy\n",
      "  \n"
     ]
    }
   ],
   "source": [
    "df_test['Type'] = pd.Categorical(df_test['Type'])\n",
    "df_test['Breed1'] = pd.Categorical(df_test['Breed1'])\n",
    "df_test['Breed2'] = pd.Categorical(df_test['Breed2'])\n",
    "df_test['Gender'] = pd.Categorical(df_test['Gender'])\n",
    "df_test['Color1'] = pd.Categorical(df_test['Color1'])\n",
    "df_test['Color2'] = pd.Categorical(df_test['Color2'])\n",
    "df_test['Color3'] = pd.Categorical(df_test['Color3'])\n",
    "df_test['MaturitySize'] = pd.Categorical(df_test['MaturitySize'])\n",
    "df_test['FurLength'] = pd.Categorical(df_test['FurLength'])\n",
    "df_test['Vaccinated'] = pd.Categorical(df_test['Vaccinated'])\n",
    "df_test['Dewormed'] = pd.Categorical(df_test['Dewormed'])\n",
    "df_test['Sterilized'] = pd.Categorical(df_test['Sterilized'])\n",
    "df_test['Health'] = pd.Categorical(df_test['Health'])\n",
    "df_test['State'] = pd.Categorical(df_test['State'])"
   ]
  },
  {
   "cell_type": "markdown",
   "metadata": {},
   "source": [
    "Corremos el modelo sobre test:"
   ]
  },
  {
   "cell_type": "code",
   "execution_count": 78,
   "metadata": {},
   "outputs": [],
   "source": [
    "y_pred_test =  modelo_svm.predict(df_test)"
   ]
  },
  {
   "cell_type": "markdown",
   "metadata": {},
   "source": [
    "Reemplazamos la columna a predecir **Adoption Speed** del dataset de sumbmission por el vector de valores predichos y guardamos el CSV."
   ]
  },
  {
   "cell_type": "code",
   "execution_count": 79,
   "metadata": {},
   "outputs": [],
   "source": [
    "data_sample_submission['AdoptionSpeed'] = y_pred_test"
   ]
  },
  {
   "cell_type": "code",
   "execution_count": 80,
   "metadata": {
    "scrolled": true
   },
   "outputs": [
    {
     "data": {
      "text/html": [
       "<div>\n",
       "<style scoped>\n",
       "    .dataframe tbody tr th:only-of-type {\n",
       "        vertical-align: middle;\n",
       "    }\n",
       "\n",
       "    .dataframe tbody tr th {\n",
       "        vertical-align: top;\n",
       "    }\n",
       "\n",
       "    .dataframe thead th {\n",
       "        text-align: right;\n",
       "    }\n",
       "</style>\n",
       "<table border=\"1\" class=\"dataframe\">\n",
       "  <thead>\n",
       "    <tr style=\"text-align: right;\">\n",
       "      <th></th>\n",
       "      <th>PID</th>\n",
       "      <th>AdoptionSpeed</th>\n",
       "    </tr>\n",
       "  </thead>\n",
       "  <tbody>\n",
       "    <tr>\n",
       "      <th>0</th>\n",
       "      <td>1</td>\n",
       "      <td>1</td>\n",
       "    </tr>\n",
       "    <tr>\n",
       "      <th>1</th>\n",
       "      <td>2</td>\n",
       "      <td>2</td>\n",
       "    </tr>\n",
       "    <tr>\n",
       "      <th>2</th>\n",
       "      <td>7</td>\n",
       "      <td>2</td>\n",
       "    </tr>\n",
       "    <tr>\n",
       "      <th>3</th>\n",
       "      <td>9</td>\n",
       "      <td>4</td>\n",
       "    </tr>\n",
       "    <tr>\n",
       "      <th>4</th>\n",
       "      <td>11</td>\n",
       "      <td>1</td>\n",
       "    </tr>\n",
       "  </tbody>\n",
       "</table>\n",
       "</div>"
      ],
      "text/plain": [
       "   PID  AdoptionSpeed\n",
       "0    1              1\n",
       "1    2              2\n",
       "2    7              2\n",
       "3    9              4\n",
       "4   11              1"
      ]
     },
     "execution_count": 80,
     "metadata": {},
     "output_type": "execute_result"
    }
   ],
   "source": [
    "data_sample_submission.head()"
   ]
  },
  {
   "cell_type": "markdown",
   "metadata": {},
   "source": [
    "Guardamos el dataset para enviar a Kaggle"
   ]
  },
  {
   "cell_type": "code",
   "execution_count": 81,
   "metadata": {},
   "outputs": [],
   "source": [
    "data_sample_submission.to_csv('./Data/sample_submission_30_7_1.csv', index=False)"
   ]
  },
  {
   "cell_type": "markdown",
   "metadata": {},
   "source": [
    "# Probamos  algoritmo LGBM"
   ]
  },
  {
   "cell_type": "code",
   "execution_count": 271,
   "metadata": {},
   "outputs": [],
   "source": [
    "train_data = lgm.Dataset(X_train, y_train)\n",
    "test_data = lgm.Dataset(X_test, y_test, reference=train_data)"
   ]
  },
  {
   "cell_type": "code",
   "execution_count": 272,
   "metadata": {},
   "outputs": [
    {
     "name": "stderr",
     "output_type": "stream",
     "text": [
      "C:\\Users\\marceluss\\Anaconda3\\lib\\site-packages\\lightgbm\\basic.py:762: UserWarning: categorical_feature in param dict is overridden.\n",
      "  warnings.warn('categorical_feature in param dict is overridden.')\n"
     ]
    },
    {
     "name": "stdout",
     "output_type": "stream",
     "text": [
      "Training until validation scores don't improve for 100 rounds.\n",
      "Early stopping, best iteration is:\n",
      "[37]\ttraining's multi_logloss: 1.10628\tvalid_1's multi_logloss: 1.35503\n"
     ]
    }
   ],
   "source": [
    "params = {'objective': 'multiclass',\n",
    "    'num_class':5,\n",
    "    'metric': 'multi_logloss',\n",
    "     \"num_leaves\" : 60,\n",
    "          \"max_depth\": -1,\n",
    "          \"bagging_fraction\" : 0.9,  # subsample\n",
    "          \"feature_fraction\" : 0.9,  # colsample_bytree\n",
    "          \"bagging_freq\" : 5,        # subsample_freq\n",
    "          \"bagging_seed\" : 2018,\n",
    "          \"verbosity\" : -1    \n",
    "         }\n",
    "\n",
    "# train\n",
    "#modelo_lgm = lgm.train(params,\n",
    "#                train_data,\n",
    "#                num_boost_round=20,\n",
    "#                valid_sets=test_data,\n",
    "#                early_stopping_rounds=5\n",
    "#                      )\n",
    "\n",
    "modelo_lgm = lgm.train(params, train_data, 2000,\n",
    "          valid_sets=[train_data, test_data],\n",
    "          early_stopping_rounds=100, verbose_eval=200)\n",
    "          "
   ]
  },
  {
   "cell_type": "code",
   "execution_count": 273,
   "metadata": {},
   "outputs": [],
   "source": [
    "\n",
    "\n",
    "y_true, y_pred_arg_mx = y_test, modelo_lgm.predict(X_test)\n"
   ]
  },
  {
   "cell_type": "code",
   "execution_count": 274,
   "metadata": {},
   "outputs": [],
   "source": [
    "y_pred = np.argmax(y_pred_arg_mx, axis=1)\n"
   ]
  },
  {
   "cell_type": "code",
   "execution_count": 275,
   "metadata": {},
   "outputs": [
    {
     "name": "stdout",
     "output_type": "stream",
     "text": [
      "The rmse of prediction is: 1.323797924489191\n"
     ]
    }
   ],
   "source": [
    "print('The rmse of prediction is:', metrics.mean_squared_error(y_true, y_pred) ** 0.5)\n",
    "#best 1.3401 1.33"
   ]
  },
  {
   "cell_type": "code",
   "execution_count": 276,
   "metadata": {},
   "outputs": [],
   "source": [
    "y_pred_test_arg_max =  modelo_lgm.predict(df_test)"
   ]
  },
  {
   "cell_type": "code",
   "execution_count": 277,
   "metadata": {},
   "outputs": [],
   "source": [
    "data_sample_submission['AdoptionSpeed'] = np.argmax(y_pred_test_arg_max, axis=1)"
   ]
  },
  {
   "cell_type": "code",
   "execution_count": 278,
   "metadata": {
    "scrolled": true
   },
   "outputs": [
    {
     "data": {
      "text/html": [
       "<div>\n",
       "<style scoped>\n",
       "    .dataframe tbody tr th:only-of-type {\n",
       "        vertical-align: middle;\n",
       "    }\n",
       "\n",
       "    .dataframe tbody tr th {\n",
       "        vertical-align: top;\n",
       "    }\n",
       "\n",
       "    .dataframe thead th {\n",
       "        text-align: right;\n",
       "    }\n",
       "</style>\n",
       "<table border=\"1\" class=\"dataframe\">\n",
       "  <thead>\n",
       "    <tr style=\"text-align: right;\">\n",
       "      <th></th>\n",
       "      <th>PID</th>\n",
       "      <th>AdoptionSpeed</th>\n",
       "    </tr>\n",
       "  </thead>\n",
       "  <tbody>\n",
       "    <tr>\n",
       "      <th>0</th>\n",
       "      <td>1</td>\n",
       "      <td>2</td>\n",
       "    </tr>\n",
       "    <tr>\n",
       "      <th>1</th>\n",
       "      <td>2</td>\n",
       "      <td>1</td>\n",
       "    </tr>\n",
       "    <tr>\n",
       "      <th>2</th>\n",
       "      <td>7</td>\n",
       "      <td>2</td>\n",
       "    </tr>\n",
       "    <tr>\n",
       "      <th>3</th>\n",
       "      <td>9</td>\n",
       "      <td>4</td>\n",
       "    </tr>\n",
       "    <tr>\n",
       "      <th>4</th>\n",
       "      <td>11</td>\n",
       "      <td>2</td>\n",
       "    </tr>\n",
       "  </tbody>\n",
       "</table>\n",
       "</div>"
      ],
      "text/plain": [
       "   PID  AdoptionSpeed\n",
       "0    1              2\n",
       "1    2              1\n",
       "2    7              2\n",
       "3    9              4\n",
       "4   11              2"
      ]
     },
     "execution_count": 278,
     "metadata": {},
     "output_type": "execute_result"
    }
   ],
   "source": [
    "data_sample_submission.head()"
   ]
  },
  {
   "cell_type": "markdown",
   "metadata": {},
   "source": [
    "Guardamos el dataset para enviar a Kaggle"
   ]
  },
  {
   "cell_type": "code",
   "execution_count": 279,
   "metadata": {},
   "outputs": [],
   "source": [
    "data_sample_submission.to_csv('./Data/sample_submission_02_08_2.csv', index=False)"
   ]
  },
  {
   "cell_type": "markdown",
   "metadata": {},
   "source": [
    "El submit de Kaggle dio un resultado de 0.38 !!!!!!!!!"
   ]
  },
  {
   "cell_type": "markdown",
   "metadata": {},
   "source": [
    "# Modelo utilizando escalamiento y one hot encoding"
   ]
  },
  {
   "cell_type": "markdown",
   "metadata": {},
   "source": [
    "1)Crear columna binaria  para cuando tiene doble **breed**\n",
    "\n",
    "2)Crear columna binaria para cuando **Fee** es distinta de 0.\n",
    "\n",
    "3)Escalamos columna **Fee y Age**.\n",
    "\n",
    "4)Crear one hot para **Type, Gender, MaturitySize, FurLength, Vaccinated, Dewormes, Sterelized, Health**\n"
   ]
  },
  {
   "cell_type": "code",
   "execution_count": 23,
   "metadata": {},
   "outputs": [],
   "source": [
    "#Copia del dataset\n",
    "df_train_fe = df_train.copy()\n",
    "df_test_fe = df_test.copy()\n"
   ]
  },
  {
   "cell_type": "markdown",
   "metadata": {},
   "source": [
    "Crear columna binaria para cuando tiene doble **Breed**"
   ]
  },
  {
   "cell_type": "code",
   "execution_count": 24,
   "metadata": {},
   "outputs": [],
   "source": [
    "df_train_fe['Breed2'] = np.where(  ( df_train_fe['Breed1'].astype(int) == df_train_fe['Breed2'].astype(int) ), 0, df_train_fe['Breed2'])    \n",
    "df_test_fe['Breed2'] = np.where(  ( df_test_fe['Breed1'].astype(int) == df_test_fe['Breed2'].astype(int) ), 0, df_test_fe['Breed2'])    \n",
    "\n",
    "\n",
    "df_train_fe['dbl_breed'] = np.where(  ( df_train_fe.Breed1.astype(int) > 0) &  (df_train_fe.Breed2.astype(int) > 0), 1, 0)\n",
    "df_test_fe['dbl_breed'] = np.where(  ( df_test_fe.Breed1.astype(int) > 0) &  (df_test_fe.Breed2.astype(int) > 0), 1, 0)\n",
    "df_train_fe['dbl_breed'] = pd.Categorical(df_train_fe['dbl_breed'])\n",
    "df_test_fe['dbl_breed'] = pd.Categorical(df_test_fe['dbl_breed'])"
   ]
  },
  {
   "cell_type": "markdown",
   "metadata": {},
   "source": [
    "2) Crear columna binaria para cuando **Fee** es distinta de 0."
   ]
  },
  {
   "cell_type": "code",
   "execution_count": 25,
   "metadata": {},
   "outputs": [],
   "source": [
    "df_train_fe['has_fee'] = np.where((df_train_fe.Fee > 0), 1, 0)\n",
    "df_test_fe['has_fee'] = np.where((df_test_fe.Fee > 0), 1, 0)"
   ]
  },
  {
   "cell_type": "markdown",
   "metadata": {},
   "source": [
    "3) Escalamos la columna **Fee y Age**."
   ]
  },
  {
   "cell_type": "code",
   "execution_count": 26,
   "metadata": {},
   "outputs": [],
   "source": [
    "scaler = MinMaxScaler()\n",
    "df_train_fe[['Fee', 'Age']] = scaler.fit_transform(df_train_fe[['Fee','Age']])\n",
    "df_test_fe[['Fee', 'Age']] = scaler.fit_transform(df_test_fe[['Fee','Age']])"
   ]
  },
  {
   "cell_type": "markdown",
   "metadata": {},
   "source": [
    "4) Crear one hot para **Type, Gender, MaturitySize, FurLength, Vaccinated, Dewormed, Sterilized, Health**"
   ]
  },
  {
   "cell_type": "code",
   "execution_count": 27,
   "metadata": {},
   "outputs": [],
   "source": [
    "dfDummies_t = pd.get_dummies(df_train_fe['Type'], prefix = 'Type')\n",
    "dfDummies_g = pd.get_dummies(df_train_fe['Gender'], prefix = 'Gender')\n",
    "dfDummies_m = pd.get_dummies(df_train_fe['MaturitySize'], prefix = 'MaturitySize')\n",
    "dfDummies_f = pd.get_dummies(df_train_fe['FurLength'], prefix = 'FurLength') \n",
    "dfDummies_v = pd.get_dummies(df_train_fe['Vaccinated'], prefix = 'Vaccinated')\n",
    "dfDummies_d = pd.get_dummies(df_train_fe['Dewormed'], prefix = 'Dewormed')\n",
    "dfDummies_s = pd.get_dummies(df_train_fe['Sterilized'], prefix = 'Sterilized')\n",
    "dfDummies_h = pd.get_dummies(df_train_fe['Health'], prefix = 'Health')\n",
    "\n",
    "dfDummies_t_2 = pd.get_dummies(df_test_fe['Type'], prefix = 'Type')\n",
    "dfDummies_g_2 = pd.get_dummies(df_test_fe['Gender'], prefix = 'Gender')\n",
    "dfDummies_m_2 = pd.get_dummies(df_test_fe['MaturitySize'], prefix = 'MaturitySize')\n",
    "dfDummies_f_2 = pd.get_dummies(df_test_fe['FurLength'], prefix = 'FurLength') \n",
    "dfDummies_v_2 = pd.get_dummies(df_test_fe['Vaccinated'], prefix = 'Vaccinated')\n",
    "dfDummies_d_2 = pd.get_dummies(df_test_fe['Dewormed'], prefix = 'Dewormed')\n",
    "dfDummies_s_2 = pd.get_dummies(df_test_fe['Sterilized'], prefix = 'Sterilized')\n",
    "dfDummies_h_2 = pd.get_dummies(df_test_fe['Health'], prefix = 'Health')\n"
   ]
  },
  {
   "cell_type": "markdown",
   "metadata": {},
   "source": [
    "Concatenamos los dataframes:"
   ]
  },
  {
   "cell_type": "code",
   "execution_count": 28,
   "metadata": {},
   "outputs": [],
   "source": [
    "df_ml_train = pd.concat( [df_train_fe[['Age',\n",
    "                                 'Breed1',\n",
    "                                 'Breed2',\n",
    "                                 'Color1',\n",
    "                                 'Color2',\n",
    "                                 'Color3',\n",
    "                                 'Quantity',\n",
    "                                 'Fee',\n",
    "                                 'State']],\n",
    "                    dfDummies_t,\n",
    "                    dfDummies_g,\n",
    "                    dfDummies_m, \n",
    "                    dfDummies_f, \n",
    "                    dfDummies_v,\n",
    "                    dfDummies_d,\n",
    "                    dfDummies_s,\n",
    "                    dfDummies_h,\n",
    "                    df_train_fe[['AdoptionSpeed']]], axis = 1)\n",
    "\n",
    "df_ml_test = pd.concat( [df_test_fe[['Age',\n",
    "                                 'Breed1',\n",
    "                                 'Breed2',\n",
    "                                 'Color1',\n",
    "                                 'Color2',\n",
    "                                 'Color3',\n",
    "                                 'Quantity',\n",
    "                                 'Fee',\n",
    "                                 'State']],\n",
    "                    dfDummies_t_2,\n",
    "                    dfDummies_g_2,\n",
    "                    dfDummies_m_2, \n",
    "                    dfDummies_f_2, \n",
    "                    dfDummies_v_2,\n",
    "                    dfDummies_d_2,\n",
    "                    dfDummies_s_2,\n",
    "                    dfDummies_h_2,], axis = 1)"
   ]
  },
  {
   "cell_type": "code",
   "execution_count": 29,
   "metadata": {},
   "outputs": [
    {
     "data": {
      "text/plain": [
       "Index(['Age', 'Breed1', 'Breed2', 'Color1', 'Color2', 'Color3', 'Quantity',\n",
       "       'Fee', 'State', 'Type_1', 'Type_2', 'Gender_1', 'Gender_2', 'Gender_3',\n",
       "       'MaturitySize_1', 'MaturitySize_2', 'MaturitySize_3', 'MaturitySize_4',\n",
       "       'FurLength_1', 'FurLength_2', 'FurLength_3', 'Vaccinated_1',\n",
       "       'Vaccinated_2', 'Vaccinated_3', 'Dewormed_1', 'Dewormed_2',\n",
       "       'Dewormed_3', 'Sterilized_1', 'Sterilized_2', 'Sterilized_3',\n",
       "       'Health_1', 'Health_2', 'Health_3'],\n",
       "      dtype='object')"
      ]
     },
     "execution_count": 29,
     "metadata": {},
     "output_type": "execute_result"
    }
   ],
   "source": [
    "df_ml_test.columns"
   ]
  },
  {
   "cell_type": "code",
   "execution_count": 30,
   "metadata": {},
   "outputs": [
    {
     "data": {
      "text/plain": [
       "Index(['Age', 'Breed1', 'Breed2', 'Color1', 'Color2', 'Color3', 'Quantity',\n",
       "       'Fee', 'State', 'Type_1', 'Type_2', 'Gender_1', 'Gender_2', 'Gender_3',\n",
       "       'MaturitySize_1', 'MaturitySize_2', 'MaturitySize_3', 'MaturitySize_4',\n",
       "       'FurLength_1', 'FurLength_2', 'FurLength_3', 'Vaccinated_1',\n",
       "       'Vaccinated_2', 'Vaccinated_3', 'Dewormed_1', 'Dewormed_2',\n",
       "       'Dewormed_3', 'Sterilized_1', 'Sterilized_2', 'Sterilized_3',\n",
       "       'Health_1', 'Health_2', 'Health_3', 'AdoptionSpeed'],\n",
       "      dtype='object')"
      ]
     },
     "execution_count": 30,
     "metadata": {},
     "output_type": "execute_result"
    }
   ],
   "source": [
    "df_ml_train.columns"
   ]
  },
  {
   "cell_type": "markdown",
   "metadata": {},
   "source": [
    "Entrenamos el modelo con el dataframe nuevo:"
   ]
  },
  {
   "cell_type": "code",
   "execution_count": 31,
   "metadata": {},
   "outputs": [],
   "source": [
    "# División entre instancias y etiquetas\n",
    "X_fe, y_fe = df_ml_train.iloc[:, :33], df_ml_train.AdoptionSpeed\n",
    "X_train_fe, X_test_fe, y_train_fe, y_test_fe = train_test_split(X_fe, y_fe, test_size=0.30, stratify=y_fe)"
   ]
  },
  {
   "cell_type": "code",
   "execution_count": 32,
   "metadata": {},
   "outputs": [
    {
     "data": {
      "text/plain": [
       "Index(['Age', 'Breed1', 'Breed2', 'Color1', 'Color2', 'Color3', 'Quantity',\n",
       "       'Fee', 'State', 'Type_1', 'Type_2', 'Gender_1', 'Gender_2', 'Gender_3',\n",
       "       'MaturitySize_1', 'MaturitySize_2', 'MaturitySize_3', 'MaturitySize_4',\n",
       "       'FurLength_1', 'FurLength_2', 'FurLength_3', 'Vaccinated_1',\n",
       "       'Vaccinated_2', 'Vaccinated_3', 'Dewormed_1', 'Dewormed_2',\n",
       "       'Dewormed_3', 'Sterilized_1', 'Sterilized_2', 'Sterilized_3',\n",
       "       'Health_1', 'Health_2', 'Health_3'],\n",
       "      dtype='object')"
      ]
     },
     "execution_count": 32,
     "metadata": {},
     "output_type": "execute_result"
    }
   ],
   "source": [
    "X_fe.columns"
   ]
  },
  {
   "cell_type": "markdown",
   "metadata": {},
   "source": [
    "Utilizamos lightgmb, preparamos la estructura de datos y entrenamos:"
   ]
  },
  {
   "cell_type": "code",
   "execution_count": 34,
   "metadata": {},
   "outputs": [],
   "source": [
    "\n",
    "train_data_fe = lgm.Dataset(X_train_fe, y_train_fe)\n",
    "test_data_fe = lgm.Dataset(X_test_fe, y_test_fe, reference=train_data_fe)"
   ]
  },
  {
   "cell_type": "code",
   "execution_count": 49,
   "metadata": {},
   "outputs": [
    {
     "name": "stdout",
     "output_type": "stream",
     "text": [
      "Training until validation scores don't improve for 5000 rounds.\n",
      "[1000]\ttraining's multi_logloss: 1.32166\tvalid_1's multi_logloss: 1.39313\n",
      "[2000]\ttraining's multi_logloss: 1.23428\tvalid_1's multi_logloss: 1.36667\n",
      "[3000]\ttraining's multi_logloss: 1.16949\tvalid_1's multi_logloss: 1.35697\n",
      "[4000]\ttraining's multi_logloss: 1.11657\tvalid_1's multi_logloss: 1.35428\n",
      "[5000]\ttraining's multi_logloss: 1.07094\tvalid_1's multi_logloss: 1.35488\n",
      "[6000]\ttraining's multi_logloss: 1.03025\tvalid_1's multi_logloss: 1.35781\n",
      "[7000]\ttraining's multi_logloss: 0.993475\tvalid_1's multi_logloss: 1.36146\n",
      "[8000]\ttraining's multi_logloss: 0.959658\tvalid_1's multi_logloss: 1.36623\n",
      "[9000]\ttraining's multi_logloss: 0.928586\tvalid_1's multi_logloss: 1.37133\n",
      "Early stopping, best iteration is:\n",
      "[4340]\ttraining's multi_logloss: 1.10046\tvalid_1's multi_logloss: 1.35412\n"
     ]
    }
   ],
   "source": [
    "params = {'objective': 'multiclass',\n",
    "    'num_class':5,\n",
    "    'metric': 'multi_logloss',\n",
    "          #'metric':'multiclassova',\n",
    "          #'is_unbalance': 'true',\n",
    "          \"learning_rate\" : 0.001,\n",
    "     \"num_leaves\" : 60,\n",
    "          \"max_depth\": -1,\n",
    "          \"bagging_fraction\" : 0.7,  # subsample\n",
    "          \"feature_fraction\" : 0.7,  # colsample_bytree\n",
    "          \"bagging_freq\" : 5,        # subsample_freq\n",
    "          \"bagging_seed\" : 2018,\n",
    "          \"verbosity\" : -1    \n",
    "         }\n",
    "\n",
    "modelo_lgm = lgm.train(params, train_data_fe, 10000,\n",
    "          valid_sets=[train_data_fe, test_data_fe],\n",
    "          early_stopping_rounds=5000, verbose_eval=1000)"
   ]
  },
  {
   "cell_type": "markdown",
   "metadata": {},
   "source": [
    "Predecimos, obtenemos el índice donde está el valor con mayor probabilidad (lgbm devuelve vector de probabilidades por cada categoría), asignamos a una variable y computamos la métrica R2:"
   ]
  },
  {
   "cell_type": "code",
   "execution_count": 50,
   "metadata": {},
   "outputs": [
    {
     "name": "stdout",
     "output_type": "stream",
     "text": [
      "The rmse of prediction is: 1.3694070215064553\n"
     ]
    }
   ],
   "source": [
    "y_true_fe, y_pred_arg_mx_fe = y_test_fe, modelo_lgm.predict(X_test_fe)\n",
    "\n",
    "y_pred_fe = np.argmax(y_pred_arg_mx_fe, axis=1)\n",
    "\n",
    "print('The rmse of prediction is:', metrics.mean_squared_error(y_true_fe, y_pred_fe) ** 0.5)"
   ]
  },
  {
   "cell_type": "markdown",
   "metadata": {},
   "source": [
    "Predecimos sobre test y asignamos el valor predicho al dataframe:"
   ]
  },
  {
   "cell_type": "code",
   "execution_count": 45,
   "metadata": {},
   "outputs": [],
   "source": [
    "y_pred_test_fe =  modelo_lgm.predict(df_ml_test)"
   ]
  },
  {
   "cell_type": "code",
   "execution_count": 47,
   "metadata": {},
   "outputs": [],
   "source": [
    "data_sample_submission['AdoptionSpeed'] = np.argmax(y_pred_test_fe, axis=1)"
   ]
  },
  {
   "cell_type": "code",
   "execution_count": 48,
   "metadata": {},
   "outputs": [
    {
     "data": {
      "text/html": [
       "<div>\n",
       "<style scoped>\n",
       "    .dataframe tbody tr th:only-of-type {\n",
       "        vertical-align: middle;\n",
       "    }\n",
       "\n",
       "    .dataframe tbody tr th {\n",
       "        vertical-align: top;\n",
       "    }\n",
       "\n",
       "    .dataframe thead th {\n",
       "        text-align: right;\n",
       "    }\n",
       "</style>\n",
       "<table border=\"1\" class=\"dataframe\">\n",
       "  <thead>\n",
       "    <tr style=\"text-align: right;\">\n",
       "      <th></th>\n",
       "      <th>PID</th>\n",
       "      <th>AdoptionSpeed</th>\n",
       "    </tr>\n",
       "  </thead>\n",
       "  <tbody>\n",
       "    <tr>\n",
       "      <th>0</th>\n",
       "      <td>1</td>\n",
       "      <td>1</td>\n",
       "    </tr>\n",
       "    <tr>\n",
       "      <th>1</th>\n",
       "      <td>2</td>\n",
       "      <td>2</td>\n",
       "    </tr>\n",
       "    <tr>\n",
       "      <th>2</th>\n",
       "      <td>7</td>\n",
       "      <td>2</td>\n",
       "    </tr>\n",
       "    <tr>\n",
       "      <th>3</th>\n",
       "      <td>9</td>\n",
       "      <td>4</td>\n",
       "    </tr>\n",
       "    <tr>\n",
       "      <th>4</th>\n",
       "      <td>11</td>\n",
       "      <td>1</td>\n",
       "    </tr>\n",
       "  </tbody>\n",
       "</table>\n",
       "</div>"
      ],
      "text/plain": [
       "   PID  AdoptionSpeed\n",
       "0    1              1\n",
       "1    2              2\n",
       "2    7              2\n",
       "3    9              4\n",
       "4   11              1"
      ]
     },
     "execution_count": 48,
     "metadata": {},
     "output_type": "execute_result"
    }
   ],
   "source": [
    "data_sample_submission.head()"
   ]
  },
  {
   "cell_type": "markdown",
   "metadata": {},
   "source": [
    "Guardasmo el CSV con los resultados:"
   ]
  },
  {
   "cell_type": "code",
   "execution_count": null,
   "metadata": {},
   "outputs": [],
   "source": [
    "data_sample_submission.to_csv('./Data/sample_submission_02_08_5.csv', index=False)"
   ]
  },
  {
   "cell_type": "markdown",
   "metadata": {},
   "source": [
    "Utilizando hot encoding obtuvimos valores por debajo (0.36) de los obtenidos sin realizar feature (0.38) engineering por lo cual preferimos el modelo anterior."
   ]
  },
  {
   "cell_type": "code",
   "execution_count": null,
   "metadata": {},
   "outputs": [],
   "source": []
  },
  {
   "cell_type": "code",
   "execution_count": null,
   "metadata": {},
   "outputs": [],
   "source": []
  }
 ],
 "metadata": {
  "kernelspec": {
   "display_name": "Python 3",
   "language": "python",
   "name": "python3"
  },
  "language_info": {
   "codemirror_mode": {
    "name": "ipython",
    "version": 3
   },
   "file_extension": ".py",
   "mimetype": "text/x-python",
   "name": "python",
   "nbconvert_exporter": "python",
   "pygments_lexer": "ipython3",
   "version": "3.7.3"
  }
 },
 "nbformat": 4,
 "nbformat_minor": 2
}
